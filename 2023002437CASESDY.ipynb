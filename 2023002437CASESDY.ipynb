{
  "nbformat": 4,
  "nbformat_minor": 0,
  "metadata": {
    "colab": {
      "provenance": []
    },
    "kernelspec": {
      "name": "python3",
      "display_name": "Python 3"
    },
    "language_info": {
      "name": "python"
    }
  },
  "cells": [
    {
      "cell_type": "code",
      "execution_count": null,
      "metadata": {
        "colab": {
          "base_uri": "https://localhost:8080/"
        },
        "id": "WZB8KpppwM4c",
        "outputId": "e92f5255-8646-41c0-c5fb-8b7c6b904765"
      },
      "outputs": [
        {
          "output_type": "stream",
          "name": "stdout",
          "text": [
            "Overwriting abst.c\n"
          ]
        }
      ],
      "source": [
        "%%writefile abst.c\n",
        "#include<stdio.h>\n",
        "#include<stdlib.h>\n",
        "#include<string.h>\n",
        "\n",
        "\n",
        "struct node\n",
        "{\n",
        "  char* word;\n",
        "  struct node*left,*right;\n",
        "};\n",
        "\n",
        "struct node* create(char* s)\n",
        "{\n",
        "  struct node*newnode=(struct node*)malloc(sizeof(struct node));\n",
        "  if(newnode==NULL)\n",
        "  {\n",
        "    printf(\"memory allcoation failed\");\n",
        "    return NULL;\n",
        "  }\n",
        "  newnode->word=(char*)malloc(strlen(s)+1);\n",
        "  if(newnode->word==NULL)\n",
        "  {\n",
        "    printf(\"memory allocation for word failed.\\n\");\n",
        "    free(newnode);\n",
        "    return NULL;\n",
        "  }\n",
        "  strcpy(newnode->word,s);\n",
        "  newnode->left=newnode->right=NULL;\n",
        "  return newnode;\n",
        "}\n",
        "\n",
        "struct node*insert(struct node*root,char* s)\n",
        "{\n",
        "  if(root==NULL)\n",
        "  {\n",
        "    return create(s);\n",
        "  }\n",
        "  int res=strcmp(s,root->word);\n",
        "  if(res<0)\n",
        "  {\n",
        "    root->left=insert(root->left,s);\n",
        "  }\n",
        "  else if(res>0)\n",
        "  {\n",
        "    root->right=insert(root->right,s);\n",
        "  }\n",
        "  else{\n",
        "    printf(\"Duplicate word '%s' not inserted.\\n\",s);\n",
        "  }\n",
        "  return root;\n",
        "}\n",
        "\n",
        "void printwords(struct node*root,char* pre)\n",
        "{\n",
        "\n",
        "  if(root==NULL)\n",
        "  {\n",
        "    return;\n",
        "  }\n",
        "  int found=0;\n",
        "  printwords(root->left,pre);\n",
        "  if(strncmp(root->word,pre,strlen(pre))==0)\n",
        "  {\n",
        "    printf(\"%s\\n\",root->word);\n",
        "    found=1;\n",
        "  }\n",
        "  printwords(root->right,pre);\n",
        "\n",
        "  if(found)\n",
        "  {\n",
        "    return;\n",
        "  }\n",
        "\n",
        "}\n",
        "\n",
        "\n",
        "int main()\n",
        "{\n",
        "  struct node*root=NULL;\n",
        "  int n;\n",
        "  char s[100];\n",
        "  printf(\"enter the no.of words\");\n",
        "  scanf(\"%d\",&n);\n",
        "  for(int i=0;i<n;i++)\n",
        "  {\n",
        "    printf(\"enter the string to insert\");\n",
        "    scanf(\"%s\",s);\n",
        "    root=insert(root,s);\n",
        "  }\n",
        "  char prefix[100];\n",
        "  printf(\"enter the prefix to search\");\n",
        "  scanf(\"%s\",prefix);\n",
        "  printf(\"suggested words with prefix '%s':\\n\",prefix);\n",
        "  int found=0;\n",
        "  printwords(root,prefix);\n",
        "  if(!found)\n",
        "  {\n",
        "    printf(\"No words found with prefix '%s'.\\n\", prefix);\n",
        "  }\n",
        "}"
      ]
    },
    {
      "cell_type": "code",
      "source": [
        "%%shell\n",
        "gcc abst.c\n",
        "./a.out"
      ],
      "metadata": {
        "colab": {
          "base_uri": "https://localhost:8080/"
        },
        "id": "0X0U5F6s-KG4",
        "outputId": "b1b7988f-f216-4268-d289-09fef8c0534c"
      },
      "execution_count": null,
      "outputs": [
        {
          "output_type": "stream",
          "name": "stdout",
          "text": [
            "enter the no.of words3\n",
            "enter the string to insertapple\n",
            "enter the string to insertmango\n",
            "enter the string to insertjack\n",
            "enter the prefix to searchjum\n",
            "suggested words with prefix 'jum':\n",
            "No words found with prefix 'jum'.\n"
          ]
        },
        {
          "output_type": "execute_result",
          "data": {
            "text/plain": []
          },
          "metadata": {},
          "execution_count": 16
        }
      ]
    },
    {
      "cell_type": "code",
      "source": [
        "%%shell\n",
        "gcc abst.c\n",
        "./a.out"
      ],
      "metadata": {
        "colab": {
          "base_uri": "https://localhost:8080/"
        },
        "id": "iyeZy9K1K_3T",
        "outputId": "23e7a71f-5889-486a-d33c-a497a23bc25e"
      },
      "execution_count": null,
      "outputs": [
        {
          "output_type": "stream",
          "name": "stdout",
          "text": [
            "enter the no.of words5\n",
            "enter the string to insertapplication\n",
            "enter the string to insertapple\n",
            "enter the string to insertapp\n",
            "enter the string to insertbanana\n",
            "enter the string to insertbank\n",
            "enter the prefix to searchapp\n",
            "suggested words with prefix 'app':\n",
            "app\n",
            "apple\n",
            "application\n"
          ]
        },
        {
          "output_type": "execute_result",
          "data": {
            "text/plain": []
          },
          "metadata": {},
          "execution_count": 10
        }
      ]
    },
    {
      "cell_type": "code",
      "source": [
        "%%shell\n",
        "gcc abst.c\n",
        "./a.out"
      ],
      "metadata": {
        "colab": {
          "base_uri": "https://localhost:8080/"
        },
        "id": "vhYgV24dNb71",
        "outputId": "4fc60ea8-1686-428c-ba23-d5b294bd1d58"
      },
      "execution_count": null,
      "outputs": [
        {
          "output_type": "stream",
          "name": "stdout",
          "text": [
            "enter the no.of words4\n",
            "enter the string to insertgrape\n",
            "enter the string to insertgrapefruit\n",
            "enter the string to insertgrape\n",
            "Duplicate word 'grape' not inserted.\n",
            "enter the string to insertguava\n",
            "enter the prefix to searchgra\n",
            "suggested words with prefix 'gra':\n",
            "grape\n",
            "grapefruit\n",
            "No words found with prefix 'gra'.\n"
          ]
        },
        {
          "output_type": "execute_result",
          "data": {
            "text/plain": []
          },
          "metadata": {},
          "execution_count": 1
        }
      ]
    },
    {
      "cell_type": "code",
      "source": [
        "%%shell\n",
        "gcc abst.c\n",
        "./a.out"
      ],
      "metadata": {
        "colab": {
          "base_uri": "https://localhost:8080/"
        },
        "id": "KHe_OzxYOFQ-",
        "outputId": "5bf37bc3-69a8-4bda-d29b-552677a82b4c"
      },
      "execution_count": null,
      "outputs": [
        {
          "output_type": "stream",
          "name": "stdout",
          "text": [
            "enter the no.of words3\n",
            "enter the string to insertcat\n",
            "enter the string to insertcaterpillar\n",
            "enter the string to insertdog\n",
            "enter the prefix to searchcat\n",
            "suggested words with prefix 'cat':\n",
            "cat\n",
            "caterpillar\n",
            "No words found with prefix 'cat'.\n"
          ]
        },
        {
          "output_type": "execute_result",
          "data": {
            "text/plain": []
          },
          "metadata": {},
          "execution_count": 4
        }
      ]
    },
    {
      "cell_type": "code",
      "source": [
        "%%shell\n",
        "gcc abst.c\n",
        "./a.out"
      ],
      "metadata": {
        "colab": {
          "base_uri": "https://localhost:8080/"
        },
        "id": "9HvUJWKSOlEf",
        "outputId": "ca384da6-b7c9-41c2-b98c-3c844d16bd49"
      },
      "execution_count": null,
      "outputs": [
        {
          "output_type": "stream",
          "name": "stdout",
          "text": [
            "enter the no.of words4\n",
            "enter the string to insertganesh\n",
            "enter the string to insertgang\n",
            "enter the string to insertpadma\n",
            "enter the string to insertganga\n",
            "enter the prefix to searchgan\n",
            "suggested words with prefix 'gan':\n",
            "ganesh\n",
            "gang\n",
            "ganga\n",
            "No words found with prefix 'gan'.\n"
          ]
        },
        {
          "output_type": "execute_result",
          "data": {
            "text/plain": []
          },
          "metadata": {},
          "execution_count": 6
        }
      ]
    }
  ]
}